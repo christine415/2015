{
 "cells": [
  {
   "cell_type": "markdown",
   "metadata": {},
   "source": [
    "Useful libraries for this assignment\n",
    "\n",
    "- numpy, for arrays\n",
    "- pandas, for data frames\n",
    "- matplotlib, for plotting\n",
    "- requests, for downloading web content\n",
    "- pattern, for parsing html and xml pages\n",
    "- fnmatch (optional), for Unix-style string matching"
   ]
  },
  {
   "cell_type": "code",
   "execution_count": 143,
   "metadata": {},
   "outputs": [
    {
     "name": "stderr",
     "output_type": "stream",
     "text": [
      "//anaconda/lib/python3.5/site-packages/matplotlib/__init__.py:800: MatplotlibDeprecationWarning: axes.color_cycle is deprecated and replaced with axes.prop_cycle; please use the latter.\n",
      "  mplDeprecation)\n"
     ]
    }
   ],
   "source": [
    "# special IPython command to prepare the notebook for matplotlib\n",
    "%matplotlib inline \n",
    "\n",
    "from fnmatch import fnmatch\n",
    "\n",
    "import numpy as np\n",
    "import pandas as pd\n",
    "import matplotlib.pyplot as plt\n",
    "import requests\n",
    "from pattern3 import web\n",
    "from bs4 import BeautifulSoup\n",
    "\n",
    "\n",
    "# set some nicer defaults for matplotlib\n",
    "from matplotlib import rcParams\n",
    "\n",
    "#these colors come from colorbrewer2.org. Each is an RGB triplet\n",
    "dark2_colors = [(0.10588235294117647, 0.6196078431372549, 0.4666666666666667),\n",
    "                (0.8509803921568627, 0.37254901960784315, 0.00784313725490196),\n",
    "                (0.4588235294117647, 0.4392156862745098, 0.7019607843137254),\n",
    "                (0.9058823529411765, 0.1607843137254902, 0.5411764705882353),\n",
    "                (0.4, 0.6509803921568628, 0.11764705882352941),\n",
    "                (0.9019607843137255, 0.6705882352941176, 0.00784313725490196),\n",
    "                (0.6509803921568628, 0.4627450980392157, 0.11372549019607843),\n",
    "                (0.4, 0.4, 0.4)]\n",
    "\n",
    "rcParams['figure.figsize'] = (10, 6)\n",
    "rcParams['figure.dpi'] = 150\n",
    "rcParams['axes.color_cycle'] = dark2_colors\n",
    "rcParams['lines.linewidth'] = 2\n",
    "rcParams['axes.grid'] = True\n",
    "rcParams['axes.facecolor'] = '#eeeeee'\n",
    "rcParams['font.size'] = 14\n",
    "rcParams['patch.edgecolor'] = 'none'"
   ]
  },
  {
   "cell_type": "markdown",
   "metadata": {},
   "source": [
    "## Introduction\n",
    "This was the XKCD comic after the 2012 Presidential election:\n",
    "\n",
    "\n",
    "\n",
    "The comic refers to the fact that Nate Silver's statistical model (which is based mostly on combining information from pre-election polls) correctly predicted the outcome of the 2012 presidential race in all 50 states.\n",
    "\n",
    "Polling data isn't a perfect predictor for the future, and some polls are more accurate than others. This means that election forecastors must consider prediction uncertainty when building models.\n",
    "\n",
    "In this first assignment, you will perform a simple analysis of polling data about the upcoming Governor races. The assignment has three main parts:\n",
    "\n",
    "**First** you will build some tools to download historical polling data from the web, and parse it into a more convenient format.\n",
    "\n",
    "**Next** you will use these tools to aggregate and visualize several past Governor races\n",
    "\n",
    "**Finally** you will run a bootstrap analysis to estimate the probable outcome of current Governor races, given the level of precision of historical polls.\n",
    "\n"
   ]
  },
  {
   "cell_type": "markdown",
   "metadata": {
    "collapsed": true
   },
   "source": [
    "## Part 1: Collect and Clean\n",
    "The Real Clear Politics website archives many political polls. In addition, they combine related polls to form an \"RCP average\" estimate of public opinion over time. For example, the chart on this page shows historical polling data for the Obama-Romney presidential race. The chart is an average of the polling data table below the chart.\n",
    "\n",
    "The data used to generate plots like this are stored as XML pages, with URLs like:\n",
    "\n",
    "http://charts.realclearpolitics.com/charts/[id].xml\n",
    "\n",
    "Here, [id] is a unique integer, found at the end of the URL of the page that displays the graph. The id for the Obama-Romney race is 1171:\n",
    "\n",
    "http://charts.realclearpolitics.com/charts/1171.xml\n",
    "\n",
    "Opening this page in Google Chrome or Firefox will show you the XML content in an easy-to-read format. Notice that XML tags are nested inside each other, hierarchically (the jargony term for this is the \"Document Object Model\", or \"DOM\"). The first step of webscraping is almost always exploring the HTML/XML source in a browser, and getting a sense of this hierarchy."
   ]
  },
  {
   "cell_type": "markdown",
   "metadata": {},
   "source": [
    "### Problem 0\n",
    "The above XML page includes 5 distinct tags (one, for example, is chart). List these tags, and depict how they nest inside each other using an indented list. For example:\n",
    "\n",
    "* Page\n",
    "    * Section\n",
    "        * Paragraph\n",
    "    * Conclusion\n",
    "\n",
    "Your Answer Here"
   ]
  },
  {
   "cell_type": "markdown",
   "metadata": {},
   "source": [
    "Answers: \n",
    "\n",
    "* chart\n",
    "    * series\n",
    "        * value\n",
    "    * graphs\n",
    "        * graph\n",
    "            * value\n",
    "        * graph\n",
    "            * value"
   ]
  },
  {
   "cell_type": "markdown",
   "metadata": {},
   "source": [
    "### Problem 1\n",
    "We want to download and work with poll data like this. Like most programming tasks, we will break this into many smaller, easier pieces\n",
    "\n",
    "Fill in the code for the get_poll_xml function, that finds and downloads an XML page discussed above\n",
    "\n",
    "### Hint\n",
    "\n",
    "requests.get(\"http://www.google.com\") .text downloads the text from Google's homepage"
   ]
  },
  {
   "cell_type": "code",
   "execution_count": 5,
   "metadata": {
    "collapsed": true
   },
   "outputs": [],
   "source": [
    "\"\"\"\n",
    "Function\n",
    "--------\n",
    "get_poll_xml\n",
    "\n",
    "Given a poll_id, return the XML data as a text string\n",
    "\n",
    "Inputs\n",
    "------\n",
    "poll_id : int\n",
    "    The ID of the poll to fetch\n",
    "\n",
    "Returns\n",
    "-------\n",
    "xml : str\n",
    "    The text of the XML page for that poll_id\n",
    "\n",
    "Example\n",
    "-------\n",
    ">>> get_poll_xml(1044)\n",
    "u'<?xml version=\"1.0\" encoding=\"UTF-8\"?><chart><series><value xid=\\'0\\'>1/27/2009</value>\n",
    "...etc...\n",
    "\"\"\"    \n",
    "#your code here\n",
    "def get_poll_xml(poll_id):\n",
    "    url = \"http://charts.realclearpolitics.com/charts/\"+str(poll_id)+\".xml\"\n",
    "    page = requests.get(url).text\n",
    "    return page"
   ]
  },
  {
   "cell_type": "markdown",
   "metadata": {},
   "source": [
    "Here are some other functions we'll use later. plot_colors contains hints about parsing XML data."
   ]
  },
  {
   "cell_type": "code",
   "execution_count": 109,
   "metadata": {
    "collapsed": true
   },
   "outputs": [],
   "source": [
    "# \"r\"egular \"e\"xpressions is kind of a mini-language to\n",
    "# do pattern matching on text\n",
    "import re\n",
    "\n",
    "def _strip(s):\n",
    "    \"\"\"This function removes non-letter characters from a word\n",
    "    \n",
    "    for example _strip('Hi there!') == 'Hi there'\n",
    "    \"\"\"\n",
    "    return re.sub(r'[\\W_]+', '', s)\n",
    "\n",
    "def plot_colors(xml):\n",
    "    \"\"\"\n",
    "    Given an XML document like the link above, returns a python dictionary\n",
    "    that maps a graph title to a graph color.\n",
    "    \n",
    "    Both the title and color are parsed from attributes of the <graph> tag:\n",
    "    <graph title=\"the title\", color=\"#ff0000\"> -> {'the title': '#ff0000'}\n",
    "    \n",
    "    These colors are in \"hex string\" format. This page explains them:\n",
    "    http://coding.smashingmagazine.com/2012/10/04/the-code-side-of-color/\n",
    "    \n",
    "    Example\n",
    "    -------\n",
    "    >>> plot_colors(get_poll_xml(1044))\n",
    "    {u'Approve': u'#000000', u'Disapprove': u'#FF0000'}\n",
    "    \"\"\"\n",
    "    dom = web.Element(xml)\n",
    "    result = {}\n",
    "    for graph in dom.by_tag('graph'):\n",
    "        title = _strip(graph.attributes['title'])\n",
    "        result[title] = graph.attributes['color']\n",
    "    return result\n"
   ]
  },
  {
   "cell_type": "markdown",
   "metadata": {},
   "source": [
    "### Problem 2\n",
    "Even though get_poll_xml pulls data from the web into Python, it does so as a block of text. This still isn't very useful. Use the web module in pattern to parse this text, and extract data into a pandas DataFrame.\n",
    "\n",
    "### Hints\n",
    "\n",
    "You might want create python lists for each column in the XML. Then, to turn these lists into a DataFrame, run\n",
    "pd.DataFrame({'column_label_1': list_1, 'column_label_2':list_2, ...})\n",
    "\n",
    "use the pandas function pd.to_datetime to convert strings into dates"
   ]
  },
  {
   "cell_type": "code",
   "execution_count": 283,
   "metadata": {},
   "outputs": [],
   "source": [
    "\"\"\"\n",
    "    Function\n",
    "    ---------\n",
    "    rcp_poll_data\n",
    "\n",
    "    Extract poll information from an XML string, and convert to a DataFrame\n",
    "\n",
    "    Parameters\n",
    "    ----------\n",
    "    xml : str\n",
    "        A string, containing the XML data from a page like \n",
    "        get_poll_xml(1044)\n",
    "        \n",
    "    Returns\n",
    "    -------\n",
    "    A pandas DataFrame with the following columns:\n",
    "        date: The date for each entry\n",
    "        title_n: The data value for the gid=n graph (take the column name from the `title` tag)\n",
    "        \n",
    "    This DataFrame should be sorted by date\n",
    "        \n",
    "    Example\n",
    "    -------\n",
    "    Consider the following simple xml page:\n",
    "    \n",
    "    <chart>\n",
    "    <series>\n",
    "    <value xid=\"0\">1/27/2009</value>\n",
    "    <value xid=\"1\">1/28/2009</value>\n",
    "    </series>\n",
    "    <graphs>\n",
    "    <graph gid=\"1\" color=\"#000000\" balloon_color=\"#000000\" title=\"Approve\">\n",
    "    <value xid=\"0\">63.3</value>\n",
    "    <value xid=\"1\">63.3</value>\n",
    "    </graph>\n",
    "    <graph gid=\"2\" color=\"#FF0000\" balloon_color=\"#FF0000\" title=\"Disapprove\">\n",
    "    <value xid=\"0\">20.0</value>\n",
    "    <value xid=\"1\">20.0</value>\n",
    "    </graph>\n",
    "    </graphs>\n",
    "    </chart>\n",
    "    \n",
    "    Given this string, rcp_poll_data should return\n",
    "    result = pd.DataFrame({'date': pd.to_datetime(['1/27/2009', '1/28/2009']), \n",
    "                           'Approve': [63.3, 63.3], 'Disapprove': [20.0, 20.0]})\n",
    "\"\"\"\n",
    "#your code here\n",
    "def rcp_poll_data(xml):\n",
    "    d = {}\n",
    "    dom = web.Element(xml)\n",
    "    titles = [graph.attributes['title'] for graph in dom.by_tag('graph')]\n",
    "    for title in titles:\n",
    "        d[title] = [float(value.content) for graph in dom.by_tag('graph') if graph.attributes['title']==title for value in graph.by_tag('value') if value.content ]\n",
    "    date = [pd.to_datetime(value.content) for series in dom.by_tag('series') for value in series.by_tag('value')]\n",
    "    d['date'] = date\n",
    "    l = [len(v) for v in d.values()]\n",
    "    for k, v in d.items():\n",
    "        d[k] = v[:min(l)]\n",
    "    result = pd.DataFrame(d)    \n",
    "    return result"
   ]
  },
  {
   "cell_type": "code",
   "execution_count": 284,
   "metadata": {},
   "outputs": [
    {
     "name": "stderr",
     "output_type": "stream",
     "text": [
      "//anaconda/lib/python3.5/site-packages/bs4/__init__.py:166: UserWarning: No parser was explicitly specified, so I'm using the best available HTML parser for this system (\"lxml\"). This usually isn't a problem, but if you run this code on another system, or in a different virtual environment, it may use a different parser and behave differently.\n",
      "\n",
      "To get rid of this warning, change this:\n",
      "\n",
      " BeautifulSoup([your markup])\n",
      "\n",
      "to this:\n",
      "\n",
      " BeautifulSoup([your markup], \"lxml\")\n",
      "\n",
      "  markup_type=markup_type))\n"
     ]
    },
    {
     "data": {
      "text/html": [
       "<div>\n",
       "<style>\n",
       "    .dataframe thead tr:only-child th {\n",
       "        text-align: right;\n",
       "    }\n",
       "\n",
       "    .dataframe thead th {\n",
       "        text-align: left;\n",
       "    }\n",
       "\n",
       "    .dataframe tbody tr th {\n",
       "        vertical-align: top;\n",
       "    }\n",
       "</style>\n",
       "<table border=\"1\" class=\"dataframe\">\n",
       "  <thead>\n",
       "    <tr style=\"text-align: right;\">\n",
       "      <th></th>\n",
       "      <th>Obama</th>\n",
       "      <th>Romney</th>\n",
       "      <th>date</th>\n",
       "    </tr>\n",
       "  </thead>\n",
       "  <tbody>\n",
       "    <tr>\n",
       "      <th>0</th>\n",
       "      <td>47.5</td>\n",
       "      <td>41.5</td>\n",
       "      <td>2011-02-01</td>\n",
       "    </tr>\n",
       "    <tr>\n",
       "      <th>1</th>\n",
       "      <td>47.5</td>\n",
       "      <td>41.5</td>\n",
       "      <td>2011-02-02</td>\n",
       "    </tr>\n",
       "    <tr>\n",
       "      <th>2</th>\n",
       "      <td>47.5</td>\n",
       "      <td>41.5</td>\n",
       "      <td>2011-02-03</td>\n",
       "    </tr>\n",
       "    <tr>\n",
       "      <th>3</th>\n",
       "      <td>47.5</td>\n",
       "      <td>41.5</td>\n",
       "      <td>2011-02-04</td>\n",
       "    </tr>\n",
       "    <tr>\n",
       "      <th>4</th>\n",
       "      <td>47.5</td>\n",
       "      <td>41.5</td>\n",
       "      <td>2011-02-05</td>\n",
       "    </tr>\n",
       "    <tr>\n",
       "      <th>5</th>\n",
       "      <td>47.5</td>\n",
       "      <td>41.5</td>\n",
       "      <td>2011-02-06</td>\n",
       "    </tr>\n",
       "    <tr>\n",
       "      <th>6</th>\n",
       "      <td>46.4</td>\n",
       "      <td>42.0</td>\n",
       "      <td>2011-02-07</td>\n",
       "    </tr>\n",
       "    <tr>\n",
       "      <th>7</th>\n",
       "      <td>46.4</td>\n",
       "      <td>42.0</td>\n",
       "      <td>2011-02-08</td>\n",
       "    </tr>\n",
       "    <tr>\n",
       "      <th>8</th>\n",
       "      <td>46.7</td>\n",
       "      <td>42.7</td>\n",
       "      <td>2011-02-09</td>\n",
       "    </tr>\n",
       "    <tr>\n",
       "      <th>9</th>\n",
       "      <td>46.7</td>\n",
       "      <td>42.7</td>\n",
       "      <td>2011-02-10</td>\n",
       "    </tr>\n",
       "    <tr>\n",
       "      <th>10</th>\n",
       "      <td>47.3</td>\n",
       "      <td>42.0</td>\n",
       "      <td>2011-02-11</td>\n",
       "    </tr>\n",
       "    <tr>\n",
       "      <th>11</th>\n",
       "      <td>47.3</td>\n",
       "      <td>42.0</td>\n",
       "      <td>2011-02-12</td>\n",
       "    </tr>\n",
       "    <tr>\n",
       "      <th>12</th>\n",
       "      <td>47.3</td>\n",
       "      <td>42.0</td>\n",
       "      <td>2011-02-13</td>\n",
       "    </tr>\n",
       "    <tr>\n",
       "      <th>13</th>\n",
       "      <td>47.3</td>\n",
       "      <td>42.0</td>\n",
       "      <td>2011-02-14</td>\n",
       "    </tr>\n",
       "    <tr>\n",
       "      <th>14</th>\n",
       "      <td>47.3</td>\n",
       "      <td>42.0</td>\n",
       "      <td>2011-02-15</td>\n",
       "    </tr>\n",
       "    <tr>\n",
       "      <th>15</th>\n",
       "      <td>47.0</td>\n",
       "      <td>41.7</td>\n",
       "      <td>2011-02-16</td>\n",
       "    </tr>\n",
       "    <tr>\n",
       "      <th>16</th>\n",
       "      <td>47.0</td>\n",
       "      <td>41.7</td>\n",
       "      <td>2011-02-17</td>\n",
       "    </tr>\n",
       "    <tr>\n",
       "      <th>17</th>\n",
       "      <td>47.0</td>\n",
       "      <td>41.7</td>\n",
       "      <td>2011-02-18</td>\n",
       "    </tr>\n",
       "    <tr>\n",
       "      <th>18</th>\n",
       "      <td>47.0</td>\n",
       "      <td>41.7</td>\n",
       "      <td>2011-02-19</td>\n",
       "    </tr>\n",
       "    <tr>\n",
       "      <th>19</th>\n",
       "      <td>47.0</td>\n",
       "      <td>41.7</td>\n",
       "      <td>2011-02-20</td>\n",
       "    </tr>\n",
       "    <tr>\n",
       "      <th>20</th>\n",
       "      <td>47.0</td>\n",
       "      <td>41.7</td>\n",
       "      <td>2011-02-21</td>\n",
       "    </tr>\n",
       "    <tr>\n",
       "      <th>21</th>\n",
       "      <td>47.0</td>\n",
       "      <td>41.7</td>\n",
       "      <td>2011-02-22</td>\n",
       "    </tr>\n",
       "    <tr>\n",
       "      <th>22</th>\n",
       "      <td>47.3</td>\n",
       "      <td>42.8</td>\n",
       "      <td>2011-02-23</td>\n",
       "    </tr>\n",
       "    <tr>\n",
       "      <th>23</th>\n",
       "      <td>47.3</td>\n",
       "      <td>42.8</td>\n",
       "      <td>2011-02-24</td>\n",
       "    </tr>\n",
       "    <tr>\n",
       "      <th>24</th>\n",
       "      <td>47.3</td>\n",
       "      <td>42.8</td>\n",
       "      <td>2011-02-25</td>\n",
       "    </tr>\n",
       "    <tr>\n",
       "      <th>25</th>\n",
       "      <td>47.3</td>\n",
       "      <td>42.8</td>\n",
       "      <td>2011-02-26</td>\n",
       "    </tr>\n",
       "    <tr>\n",
       "      <th>26</th>\n",
       "      <td>47.3</td>\n",
       "      <td>42.8</td>\n",
       "      <td>2011-02-27</td>\n",
       "    </tr>\n",
       "    <tr>\n",
       "      <th>27</th>\n",
       "      <td>47.3</td>\n",
       "      <td>42.8</td>\n",
       "      <td>2011-02-28</td>\n",
       "    </tr>\n",
       "    <tr>\n",
       "      <th>28</th>\n",
       "      <td>47.3</td>\n",
       "      <td>42.8</td>\n",
       "      <td>2011-03-01</td>\n",
       "    </tr>\n",
       "    <tr>\n",
       "      <th>29</th>\n",
       "      <td>47.6</td>\n",
       "      <td>42.4</td>\n",
       "      <td>2011-03-02</td>\n",
       "    </tr>\n",
       "    <tr>\n",
       "      <th>...</th>\n",
       "      <td>...</td>\n",
       "      <td>...</td>\n",
       "      <td>...</td>\n",
       "    </tr>\n",
       "    <tr>\n",
       "      <th>615</th>\n",
       "      <td>47.9</td>\n",
       "      <td>47.4</td>\n",
       "      <td>2012-10-08</td>\n",
       "    </tr>\n",
       "    <tr>\n",
       "      <th>616</th>\n",
       "      <td>47.3</td>\n",
       "      <td>48.0</td>\n",
       "      <td>2012-10-09</td>\n",
       "    </tr>\n",
       "    <tr>\n",
       "      <th>617</th>\n",
       "      <td>46.1</td>\n",
       "      <td>47.6</td>\n",
       "      <td>2012-10-10</td>\n",
       "    </tr>\n",
       "    <tr>\n",
       "      <th>618</th>\n",
       "      <td>46.4</td>\n",
       "      <td>47.1</td>\n",
       "      <td>2012-10-11</td>\n",
       "    </tr>\n",
       "    <tr>\n",
       "      <th>619</th>\n",
       "      <td>46.3</td>\n",
       "      <td>47.3</td>\n",
       "      <td>2012-10-12</td>\n",
       "    </tr>\n",
       "    <tr>\n",
       "      <th>620</th>\n",
       "      <td>46.0</td>\n",
       "      <td>47.3</td>\n",
       "      <td>2012-10-13</td>\n",
       "    </tr>\n",
       "    <tr>\n",
       "      <th>621</th>\n",
       "      <td>46.4</td>\n",
       "      <td>47.4</td>\n",
       "      <td>2012-10-14</td>\n",
       "    </tr>\n",
       "    <tr>\n",
       "      <th>622</th>\n",
       "      <td>47.3</td>\n",
       "      <td>47.4</td>\n",
       "      <td>2012-10-15</td>\n",
       "    </tr>\n",
       "    <tr>\n",
       "      <th>623</th>\n",
       "      <td>47.0</td>\n",
       "      <td>47.4</td>\n",
       "      <td>2012-10-16</td>\n",
       "    </tr>\n",
       "    <tr>\n",
       "      <th>624</th>\n",
       "      <td>47.0</td>\n",
       "      <td>47.4</td>\n",
       "      <td>2012-10-17</td>\n",
       "    </tr>\n",
       "    <tr>\n",
       "      <th>625</th>\n",
       "      <td>46.7</td>\n",
       "      <td>47.7</td>\n",
       "      <td>2012-10-18</td>\n",
       "    </tr>\n",
       "    <tr>\n",
       "      <th>626</th>\n",
       "      <td>47.1</td>\n",
       "      <td>47.0</td>\n",
       "      <td>2012-10-19</td>\n",
       "    </tr>\n",
       "    <tr>\n",
       "      <th>627</th>\n",
       "      <td>47.1</td>\n",
       "      <td>47.0</td>\n",
       "      <td>2012-10-20</td>\n",
       "    </tr>\n",
       "    <tr>\n",
       "      <th>628</th>\n",
       "      <td>47.1</td>\n",
       "      <td>46.9</td>\n",
       "      <td>2012-10-21</td>\n",
       "    </tr>\n",
       "    <tr>\n",
       "      <th>629</th>\n",
       "      <td>47.2</td>\n",
       "      <td>47.6</td>\n",
       "      <td>2012-10-22</td>\n",
       "    </tr>\n",
       "    <tr>\n",
       "      <th>630</th>\n",
       "      <td>47.1</td>\n",
       "      <td>48.0</td>\n",
       "      <td>2012-10-23</td>\n",
       "    </tr>\n",
       "    <tr>\n",
       "      <th>631</th>\n",
       "      <td>47.2</td>\n",
       "      <td>47.8</td>\n",
       "      <td>2012-10-24</td>\n",
       "    </tr>\n",
       "    <tr>\n",
       "      <th>632</th>\n",
       "      <td>47.0</td>\n",
       "      <td>47.9</td>\n",
       "      <td>2012-10-25</td>\n",
       "    </tr>\n",
       "    <tr>\n",
       "      <th>633</th>\n",
       "      <td>47.0</td>\n",
       "      <td>47.9</td>\n",
       "      <td>2012-10-26</td>\n",
       "    </tr>\n",
       "    <tr>\n",
       "      <th>634</th>\n",
       "      <td>46.9</td>\n",
       "      <td>47.9</td>\n",
       "      <td>2012-10-27</td>\n",
       "    </tr>\n",
       "    <tr>\n",
       "      <th>635</th>\n",
       "      <td>46.8</td>\n",
       "      <td>47.7</td>\n",
       "      <td>2012-10-28</td>\n",
       "    </tr>\n",
       "    <tr>\n",
       "      <th>636</th>\n",
       "      <td>46.8</td>\n",
       "      <td>47.6</td>\n",
       "      <td>2012-10-29</td>\n",
       "    </tr>\n",
       "    <tr>\n",
       "      <th>637</th>\n",
       "      <td>47.1</td>\n",
       "      <td>47.9</td>\n",
       "      <td>2012-10-30</td>\n",
       "    </tr>\n",
       "    <tr>\n",
       "      <th>638</th>\n",
       "      <td>47.4</td>\n",
       "      <td>47.4</td>\n",
       "      <td>2012-10-31</td>\n",
       "    </tr>\n",
       "    <tr>\n",
       "      <th>639</th>\n",
       "      <td>47.4</td>\n",
       "      <td>47.3</td>\n",
       "      <td>2012-11-01</td>\n",
       "    </tr>\n",
       "    <tr>\n",
       "      <th>640</th>\n",
       "      <td>47.4</td>\n",
       "      <td>47.3</td>\n",
       "      <td>2012-11-02</td>\n",
       "    </tr>\n",
       "    <tr>\n",
       "      <th>641</th>\n",
       "      <td>47.4</td>\n",
       "      <td>47.2</td>\n",
       "      <td>2012-11-03</td>\n",
       "    </tr>\n",
       "    <tr>\n",
       "      <th>642</th>\n",
       "      <td>47.9</td>\n",
       "      <td>47.4</td>\n",
       "      <td>2012-11-04</td>\n",
       "    </tr>\n",
       "    <tr>\n",
       "      <th>643</th>\n",
       "      <td>48.8</td>\n",
       "      <td>48.1</td>\n",
       "      <td>2012-11-05</td>\n",
       "    </tr>\n",
       "    <tr>\n",
       "      <th>644</th>\n",
       "      <td>48.8</td>\n",
       "      <td>48.1</td>\n",
       "      <td>2012-11-06</td>\n",
       "    </tr>\n",
       "  </tbody>\n",
       "</table>\n",
       "<p>645 rows × 3 columns</p>\n",
       "</div>"
      ],
      "text/plain": [
       "     Obama  Romney       date\n",
       "0     47.5    41.5 2011-02-01\n",
       "1     47.5    41.5 2011-02-02\n",
       "2     47.5    41.5 2011-02-03\n",
       "3     47.5    41.5 2011-02-04\n",
       "4     47.5    41.5 2011-02-05\n",
       "5     47.5    41.5 2011-02-06\n",
       "6     46.4    42.0 2011-02-07\n",
       "7     46.4    42.0 2011-02-08\n",
       "8     46.7    42.7 2011-02-09\n",
       "9     46.7    42.7 2011-02-10\n",
       "10    47.3    42.0 2011-02-11\n",
       "11    47.3    42.0 2011-02-12\n",
       "12    47.3    42.0 2011-02-13\n",
       "13    47.3    42.0 2011-02-14\n",
       "14    47.3    42.0 2011-02-15\n",
       "15    47.0    41.7 2011-02-16\n",
       "16    47.0    41.7 2011-02-17\n",
       "17    47.0    41.7 2011-02-18\n",
       "18    47.0    41.7 2011-02-19\n",
       "19    47.0    41.7 2011-02-20\n",
       "20    47.0    41.7 2011-02-21\n",
       "21    47.0    41.7 2011-02-22\n",
       "22    47.3    42.8 2011-02-23\n",
       "23    47.3    42.8 2011-02-24\n",
       "24    47.3    42.8 2011-02-25\n",
       "25    47.3    42.8 2011-02-26\n",
       "26    47.3    42.8 2011-02-27\n",
       "27    47.3    42.8 2011-02-28\n",
       "28    47.3    42.8 2011-03-01\n",
       "29    47.6    42.4 2011-03-02\n",
       "..     ...     ...        ...\n",
       "615   47.9    47.4 2012-10-08\n",
       "616   47.3    48.0 2012-10-09\n",
       "617   46.1    47.6 2012-10-10\n",
       "618   46.4    47.1 2012-10-11\n",
       "619   46.3    47.3 2012-10-12\n",
       "620   46.0    47.3 2012-10-13\n",
       "621   46.4    47.4 2012-10-14\n",
       "622   47.3    47.4 2012-10-15\n",
       "623   47.0    47.4 2012-10-16\n",
       "624   47.0    47.4 2012-10-17\n",
       "625   46.7    47.7 2012-10-18\n",
       "626   47.1    47.0 2012-10-19\n",
       "627   47.1    47.0 2012-10-20\n",
       "628   47.1    46.9 2012-10-21\n",
       "629   47.2    47.6 2012-10-22\n",
       "630   47.1    48.0 2012-10-23\n",
       "631   47.2    47.8 2012-10-24\n",
       "632   47.0    47.9 2012-10-25\n",
       "633   47.0    47.9 2012-10-26\n",
       "634   46.9    47.9 2012-10-27\n",
       "635   46.8    47.7 2012-10-28\n",
       "636   46.8    47.6 2012-10-29\n",
       "637   47.1    47.9 2012-10-30\n",
       "638   47.4    47.4 2012-10-31\n",
       "639   47.4    47.3 2012-11-01\n",
       "640   47.4    47.3 2012-11-02\n",
       "641   47.4    47.2 2012-11-03\n",
       "642   47.9    47.4 2012-11-04\n",
       "643   48.8    48.1 2012-11-05\n",
       "644   48.8    48.1 2012-11-06\n",
       "\n",
       "[645 rows x 3 columns]"
      ]
     },
     "execution_count": 284,
     "metadata": {},
     "output_type": "execute_result"
    }
   ],
   "source": [
    "xml = get_poll_xml(1171)\n",
    "rcp_poll_data(xml)"
   ]
  },
  {
   "cell_type": "markdown",
   "metadata": {},
   "source": [
    "The output from rcp_poll_data is much more useful for analysis. For example, we can plot with it:"
   ]
  },
  {
   "cell_type": "code",
   "execution_count": 286,
   "metadata": {
    "collapsed": true
   },
   "outputs": [],
   "source": [
    "def poll_plot(poll_id):\n",
    "    \"\"\"\n",
    "    Make a plot of an RCP Poll over time\n",
    "    \n",
    "    Parameters\n",
    "    ----------\n",
    "    poll_id : int\n",
    "        An RCP poll identifier\n",
    "    \"\"\"\n",
    "\n",
    "    # hey, you wrote two of these functions. Thanks for that!\n",
    "    xml = get_poll_xml(poll_id)\n",
    "    data = rcp_poll_data(xml)\n",
    "    colors = plot_colors(xml)\n",
    "\n",
    "    #remove characters like apostrophes\n",
    "    data = data.rename(columns = {c: _strip(c) for c in data.columns})\n",
    "\n",
    "    #normalize poll numbers so they add to 100%    \n",
    "    norm = data[list(colors.keys())].sum(axis=1) / 100    \n",
    "    for c in colors.keys():\n",
    "        data[c] /= norm\n",
    "    \n",
    "    for label, color in colors.items():\n",
    "        plt.plot(data.date, data[label], color=color, label=label)        \n",
    "        \n",
    "    plt.xticks(rotation=70) \n",
    "    plt.legend(loc='best')\n",
    "    plt.xlabel(\"Date\")\n",
    "    plt.ylabel(\"Normalized Poll Percentage\")"
   ]
  },
  {
   "cell_type": "markdown",
   "metadata": {},
   "source": [
    "If you've done everything right so far, the following code should reproduce the graph on this page"
   ]
  },
  {
   "cell_type": "code",
   "execution_count": 130,
   "metadata": {},
   "outputs": [
    {
     "name": "stderr",
     "output_type": "stream",
     "text": [
      "//anaconda/lib/python3.5/site-packages/bs4/__init__.py:166: UserWarning: No parser was explicitly specified, so I'm using the best available HTML parser for this system (\"lxml\"). This usually isn't a problem, but if you run this code on another system, or in a different virtual environment, it may use a different parser and behave differently.\n",
      "\n",
      "To get rid of this warning, change this:\n",
      "\n",
      " BeautifulSoup([your markup])\n",
      "\n",
      "to this:\n",
      "\n",
      " BeautifulSoup([your markup], \"lxml\")\n",
      "\n",
      "  markup_type=markup_type))\n"
     ]
    },
    {
     "data": {
      "text/plain": [
       "Text(0.5,1,'Obama Job Approval')"
      ]
     },
     "execution_count": 130,
     "metadata": {},
     "output_type": "execute_result"
    },
    {
     "data": {
      "image/png": "[encoded data removed]",
      "text/plain": [
       "<matplotlib.figure.Figure at 0x112ae6f60>"
      ]
     },
     "metadata": {},
     "output_type": "display_data"
    }
   ],
   "source": [
    "poll_plot(1044)\n",
    "plt.title(\"Obama Job Approval\")"
   ]
  },
  {
   "cell_type": "markdown",
   "metadata": {},
   "source": [
    "## Part 2: Aggregate and Visualize\n",
    "### Problem 3\n",
    "Unfortunately, these data don't have any error bars. If a candidate leads by 10% in the RCP average, is she a shoo-in to win? Or is this number too close to call? Does a 10% poll lead mean more 1 day before a race than it does 1 week before? Without error estimates, these questions are impossible to answer.\n",
    "\n",
    "To get a sense of how accurate the RCP polls are, you will gather data from many previous Governor races, where the outcome is known.\n",
    "\n",
    "This url has links to many governer races.\n",
    "\n",
    "http://www.realclearpolitics.com/epolls/2010/governor/2010_elections_governor_map.html\n",
    "\n",
    "Notice that each link to a governor race has the following URL pattern:\n",
    "\n",
    "http://www.realclearpolitics.com/epolls/[YEAR]/governor/[STATE]/[TITLE]-[ID].html\n",
    "\n",
    "Write a function that scans html for links to URLs like this\n",
    "\n",
    "### Hint\n",
    "The fnmatch function is useful for simple string matching tasks."
   ]
  },
  {
   "cell_type": "code",
   "execution_count": 258,
   "metadata": {
    "collapsed": true
   },
   "outputs": [],
   "source": [
    "\"\"\"\n",
    "    Function\n",
    "    --------\n",
    "    find_governor_races\n",
    "\n",
    "    Find and return links to RCP races on a page like\n",
    "    http://www.realclearpolitics.com/epolls/2010/governor/2010_elections_governor_map.html\n",
    "    \n",
    "    Parameters\n",
    "    ----------\n",
    "    html : str\n",
    "        The HTML content of a page to scan\n",
    "        \n",
    "    Returns\n",
    "    -------\n",
    "    A list of urls for Governer race pages\n",
    "    \n",
    "    Example\n",
    "    -------\n",
    "    For a page like\n",
    "    \n",
    "    <html>\n",
    "    <body>\n",
    "    <a href=\"http://www.realclearpolitics.com/epolls/2010/governor/ma/massachusetts_governor_baker_vs_patrick_vs_cahill-1154.html\"></a>\n",
    "    <a href=\"http://www.realclearpolitics.com/epolls/2010/governor/ca/california_governor_whitman_vs_brown-1113.html\"></a>\n",
    "    </body>\n",
    "    </html>\n",
    "    \n",
    "    find_governor_races would return\n",
    "    ['http://www.realclearpolitics.com/epolls/2010/governor/ma/massachusetts_governor_baker_vs_patrick_vs_cahill-1154.html',\n",
    "     'http://www.realclearpolitics.com/epolls/2010/governor/ca/california_governor_whitman_vs_brown-1113.html']\n",
    "\"\"\"\n",
    "#your code here\n",
    "def find_governor_races(html):\n",
    "    result = []\n",
    "    pattern = 'http://www.realclearpolitics.com/epolls/????/governor/??/*-*.html'\n",
    "    soup = BeautifulSoup(html, \"html.parser\")\n",
    "    for href in soup.find_all(href=True):\n",
    "        if fnmatch(href.get('href'), pattern):\n",
    "            result.append(href.get('href'))\n",
    "    return result"
   ]
  },
  {
   "cell_type": "code",
   "execution_count": 259,
   "metadata": {
    "collapsed": true
   },
   "outputs": [],
   "source": [
    "html = requests.get(\"http://www.realclearpolitics.com/epolls/2010/governor/2010_elections_governor_map.html\").text"
   ]
  },
  {
   "cell_type": "code",
   "execution_count": 260,
   "metadata": {},
   "outputs": [
    {
     "data": {
      "text/plain": [
       "['http://www.realclearpolitics.com/epolls/2009/governor/va/virginia_governor_mcdonnell_vs_deeds-1055.html',\n",
       " 'http://www.realclearpolitics.com/epolls/2009/governor/nj/new_jersey_governor_corzine_vs_christie-1051.html']"
      ]
     },
     "execution_count": 260,
     "metadata": {},
     "output_type": "execute_result"
    }
   ],
   "source": [
    "find_governor_races(html)"
   ]
  },
  {
   "cell_type": "markdown",
   "metadata": {},
   "source": [
    "### Problem 4\n",
    "At this point, you have functions to find a collection of governor races, download historical polling data from each one, parse them into a numerical DataFrame, and plot this data.\n",
    "\n",
    "The main question we have about these data are how accurately they predict election outcomes. To answer this question, we need to grab the election outcome data.\n",
    "\n",
    "Write a function that looks up and returns the election result on a page like this one.\n",
    "\n",
    "### Remember to look at the HTML source!\n",
    "\n",
    "You can do this by selection view->developer->view source in Chrome, or Tools -> web developer -> page source in Firefox. Altenatively, you can right-click on a part of the page, and select \"inspect element\""
   ]
  },
  {
   "cell_type": "code",
   "execution_count": 343,
   "metadata": {
    "collapsed": true
   },
   "outputs": [],
   "source": [
    "\"\"\"\n",
    "    Function\n",
    "    --------\n",
    "    race_result\n",
    "\n",
    "    Return the actual voting results on a race page\n",
    "    \n",
    "    Parameters\n",
    "    ----------\n",
    "    url : string\n",
    "        The website to search through\n",
    "        \n",
    "    Returns\n",
    "    -------\n",
    "    A dictionary whose keys are candidate names,\n",
    "    and whose values is the percentage of votes they received.\n",
    "    \n",
    "    If necessary, normalize these numbers so that they add up to 100%.\n",
    "    \n",
    "    Example\n",
    "    --------\n",
    "    >>> url = 'http://www.realclearpolitics.com/epolls/2010/governor/ca/california_governor_whitman_vs_brown-1113.html'\n",
    "    >>> race_result(url)\n",
    "    {'Brown': 56.0126582278481, 'Whitman': 43.9873417721519}\n",
    "\"\"\"\n",
    "#your code here\n",
    "def race_result(url):\n",
    "    soup = BeautifulSoup(requests.get(url).text, 'html.parser')\n",
    "    rows = [row for row in soup.find('table', 'data').find_all('tr')]\n",
    "    names = [col.get_text().split('(')[0] for col in rows[0].find_all('th') if col.get_text()][3:-1]\n",
    "    polls = [col.get_text() for col in rows[1].find_all('td') if col.get_text()][3:-1]\n",
    "    polls = [float(p) for p in polls]\n",
    "    total = sum(polls)\n",
    "    result = {}\n",
    "    for i in range(len(names)):\n",
    "        result[names[i]] = float(polls[i])/total * 100 \n",
    "    return result\n",
    "    "
   ]
  },
  {
   "cell_type": "code",
   "execution_count": 344,
   "metadata": {},
   "outputs": [
    {
     "data": {
      "text/plain": [
       "{'Christie ': 49.24318869828456,\n",
       " 'Corzine ': 44.904137235116046,\n",
       " 'Daggett ': 5.852674066599395}"
      ]
     },
     "execution_count": 344,
     "metadata": {},
     "output_type": "execute_result"
    }
   ],
   "source": [
    "url = 'http://www.realclearpolitics.com/epolls/2009/governor/nj/new_jersey_governor_corzine_vs_christie-1051.html'\n",
    "race_result(url)"
   ]
  },
  {
   "cell_type": "code",
   "execution_count": 338,
   "metadata": {},
   "outputs": [
    {
     "data": {
      "text/html": [
       "<table class=\"data\"><tr><th class=\"noCenter\">Poll</th><th class=\"date\">Date</th><th>Sample</th><th>Christie (R)</th><th>Corzine (D)</th><th>Daggett (I)</th><th class=\"spread\">Spread</th></tr><tr class=\"final\"><td class=\"noCenter\">Final Results</td><td>--</td><td>--</td><td>48.8</td><td>44.5</td><td>5.8</td><td class=\"spread\"><span class=\"rep\">Christie +4.3</span></td></tr><tr class=\"rcpAvg2\"><td class=\"noCenter\">RCP Average</td><td>10/27 - 11/1</td><td>--</td><td>42.6</td><td>41.6</td><td>10.4</td><td class=\"spread\"><span class=\"rep\">Christie +1.0</span></td></tr><tr class=\"alt\"><td class=\"noCenter\"><a href=\"http://www.monmouth.edu/polling/admin/polls/MUP31_2.pdf\">Monmouth/Gannett</a></td><td>10/31 - 11/1</td><td>722 LV</td><td>41</td><td>43</td><td>8</td><td class=\"spread\"><span class=\"dem\">Corzine +2</span></td></tr><tr><td class=\"noCenter\"><a href=\"http://www.surveyusa.com/client/PollReport.aspx?g=dfd3ba1b-5d93-4ed4-9e40-f535fa9bd928\">SurveyUSA</a></td><td>10/30 - 11/1</td><td>582 LV</td><td>45</td><td>42</td><td>10</td><td class=\"spread\"><span class=\"rep\">Christie +3</span></td></tr><tr class=\"alt\"><td class=\"noCenter\"><a href=\"http://www.quinnipiac.edu/x1298.xml\">Quinnipiac</a></td><td>10/27 - 11/1</td><td>1533 LV</td><td>42</td><td>40</td><td>12</td><td class=\"spread\"><span class=\"rep\">Christie +2</span></td></tr><tr><td class=\"noCenter\"><a href=\"http://www.rasmussenreports.com/public_content/politics/elections2/election_2009/new_jersey/election_2009_new_jersey_governor\">Rasmussen Reports</a></td><td>10/29 - 10/29</td><td>1000 LV</td><td>46</td><td>43</td><td>8</td><td class=\"spread\"><span class=\"rep\">Christie +3</span></td></tr><tr class=\"alt\"><td class=\"noCenter\"><a href=\"http://www.njbiz.com/article.asp?aID=79658\">Stockton/Zogby</a></td><td>10/27 - 10/29</td><td>1093 LV</td><td>39</td><td>40</td><td>14</td><td class=\"spread\"><span class=\"dem\">Corzine +1</span></td></tr></table>"
      ],
      "text/plain": [
       "<IPython.core.display.HTML object>"
      ]
     },
     "execution_count": 338,
     "metadata": {},
     "output_type": "execute_result"
    }
   ],
   "source": [
    "# To visualize the result table\n",
    "soup = BeautifulSoup(requests.get(url).text,'html.parser')\n",
    "from IPython.core.display import HTML\n",
    "table_html = str(soup.find('table','data'))\n",
    "HTML(table_html)"
   ]
  },
  {
   "cell_type": "markdown",
   "metadata": {},
   "source": [
    "Here are some more utility functions that take advantage of what you've done so far."
   ]
  },
  {
   "cell_type": "code",
   "execution_count": 323,
   "metadata": {
    "collapsed": true
   },
   "outputs": [],
   "source": [
    "def id_from_url(url):\n",
    "    \"\"\"Given a URL, look up the RCP identifier number\"\"\"\n",
    "    return url.split('-')[-1].split('.html')[0]\n",
    "\n",
    "\n",
    "def plot_race(url):\n",
    "    \"\"\"Make a plot summarizing a senate race\n",
    "    \n",
    "    Overplots the actual race results as dashed horizontal lines\n",
    "    \"\"\"\n",
    "    #hey, thanks again for these functions!\n",
    "    id = id_from_url(url)\n",
    "    xml = get_poll_xml(id)    \n",
    "    colors = plot_colors(xml)\n",
    "\n",
    "    if len(colors) == 0:\n",
    "        return\n",
    "    \n",
    "    #really, you shouldn't have\n",
    "    result = race_result(url)\n",
    "    \n",
    "    poll_plot(id)\n",
    "    plt.xlabel(\"Date\")\n",
    "    plt.ylabel(\"Polling Percentage\")"
   ]
  },
  {
   "cell_type": "markdown",
   "metadata": {},
   "source": [
    "Now that this is done, we can easily visualize many historical Governer races. The solid line plots the poll history, the dotted line reports the actual result.\n",
    "\n",
    "If this code block fails, you probably have a bug in one of your functions."
   ]
  },
  {
   "cell_type": "code",
   "execution_count": 345,
   "metadata": {},
   "outputs": [
    {
     "name": "stderr",
     "output_type": "stream",
     "text": [
      "//anaconda/lib/python3.5/site-packages/bs4/__init__.py:166: UserWarning: No parser was explicitly specified, so I'm using the best available HTML parser for this system (\"lxml\"). This usually isn't a problem, but if you run this code on another system, or in a different virtual environment, it may use a different parser and behave differently.\n",
      "\n",
      "To get rid of this warning, change this:\n",
      "\n",
      " BeautifulSoup([your markup])\n",
      "\n",
      "to this:\n",
      "\n",
      " BeautifulSoup([your markup], \"lxml\")\n",
      "\n",
      "  markup_type=markup_type))\n"
     ]
    },
    {
     "data": {
      "image/png": "[encoded data removed]",
      "text/plain": [
       "<matplotlib.figure.Figure at 0x116aec1d0>"
      ]
     },
     "metadata": {},
     "output_type": "display_data"
    },
    {
     "data": {
      "image/png": "[encoded data removed]",
      "text/plain": [
       "<matplotlib.figure.Figure at 0x11778bb70>"
      ]
     },
     "metadata": {},
     "output_type": "display_data"
    }
   ],
   "source": [
    "page = requests.get('http://www.realclearpolitics.com/epolls/2010/governor/2010_elections_governor_map.html').text.encode('ascii', 'ignore')\n",
    "\n",
    "for race in find_governor_races(page):\n",
    "    plot_race(race)\n",
    "    plt.show()"
   ]
  },
  {
   "cell_type": "markdown",
   "metadata": {},
   "source": [
    "Briefly summarize these graphs -- how accurate is the typical poll a day before the election? How often does a prediction one month before the election mispredict the actual winner?\n",
    "\n",
    "**Your summary**\n",
    "The accuracy will go up when the election day is closer"
   ]
  },
  {
   "cell_type": "markdown",
   "metadata": {},
   "source": [
    "## Part 3: Analysis\n",
    "### Problem 5\n",
    "You are (finally!) in a position to do some quantitative analysis.\n",
    "\n",
    "We have provided an error_data function that builds upon the functions you have written. It computes a new DataFrame with information about polling errors.\n",
    "\n",
    "Use error_data, find_governer_races, and pd.concat to construct a Data Frame summarizing the forecast errors from all the Governor races\n",
    "\n",
    "### Hint\n",
    "\n",
    "It's best to set ignore_index=True in pd.concat"
   ]
  },
  {
   "cell_type": "code",
   "execution_count": 346,
   "metadata": {
    "collapsed": true
   },
   "outputs": [],
   "source": [
    "def party_from_color(color):\n",
    "    if color in ['#0000CC', '#3B5998']:\n",
    "        return 'democrat'\n",
    "    if color in ['#FF0000', '#D30015']:\n",
    "        return 'republican'\n",
    "    return 'other'\n",
    "\n",
    "\n",
    "def error_data(url):\n",
    "    \"\"\"\n",
    "    Given a Governor race URL, download the poll data and race result,\n",
    "    and construct a DataFrame with the following columns:\n",
    "    \n",
    "    candidate: Name of the candidate\n",
    "    forecast_length: Number of days before the election\n",
    "    percentage: The percent of poll votes a candidate has.\n",
    "                Normalized to that the canddidate percentages add to 100%\n",
    "    error: Difference between percentage and actual race reulst\n",
    "    party: Political party of the candidate\n",
    "    \n",
    "    The data are resampled as necessary, to provide one data point per day\n",
    "    \"\"\"\n",
    "    \n",
    "    id = id_from_url(url)\n",
    "    xml = get_poll_xml(id)\n",
    "    \n",
    "    colors = plot_colors(xml)\n",
    "    if len(colors) == 0:\n",
    "        return pd.DataFrame()\n",
    "    \n",
    "    df = rcp_poll_data(xml)\n",
    "    result = race_result(url)\n",
    "    \n",
    "    #remove non-letter characters from columns\n",
    "    df = df.rename(columns={c: _strip(c) for c in df.columns})\n",
    "    for k, v in result.items():\n",
    "        #result[_strip(k)] = v \n",
    "        result[_strip(k)] = result.pop(k)\n",
    "    \n",
    "    candidates = [c for c in df.columns if c is not 'date']\n",
    "        \n",
    "    #turn into a timeseries...\n",
    "    df.index = df.date\n",
    "    \n",
    "    #...so that we can resample at regular, daily intervals\n",
    "    df = df.resample('D')\n",
    "    df = df.dropna()\n",
    "    \n",
    "    #print(df.index)\n",
    "    #compute forecast length in days\n",
    "    #(assuming that last forecast happens on the day of the election, for simplicity)\n",
    "    forecast_length = (df.index.max() - df.index).values\n",
    "    forecast_length = forecast_length / np.timedelta64(1, 'D')  # convert to number of days\n",
    "    \n",
    "    #compute forecast error\n",
    "    errors = {}\n",
    "    normalized = {}\n",
    "    poll_lead = {}\n",
    "    for c in candidates:\n",
    "        #turn raw percentage into percentage of poll votes\n",
    "        corr = df[c].values / df[candidates].sum(axis=1).values * 100.\n",
    "        err = corr - result[_strip(c)]\n",
    "        \n",
    "        normalized[c] = corr\n",
    "        errors[c] = err\n",
    "        \n",
    "    n = forecast_length.size\n",
    "    \n",
    "    result = {}\n",
    "    result['percentage'] = np.hstack(normalized[c] for c in candidates)\n",
    "    result['error'] = np.hstack(errors[c] for c in candidates)\n",
    "    result['candidate'] = np.hstack(np.repeat(c, n) for c in candidates)\n",
    "    result['party'] = np.hstack(np.repeat(party_from_color(colors[_strip(c)]), n) for c in candidates)\n",
    "    result['forecast_length'] = np.hstack(forecast_length for _ in candidates)\n",
    "    \n",
    "    result = pd.DataFrame(result)\n",
    "    return result"
   ]
  },
  {
   "cell_type": "code",
   "execution_count": 355,
   "metadata": {},
   "outputs": [],
   "source": [
    "\"\"\"\n",
    "function\n",
    "---------\n",
    "all_error_data\n",
    "\n",
    "Calls error_data on all races from find_governer_races(page),\n",
    "and concatenates into a single DataFrame\n",
    "\n",
    "Parameters\n",
    "-----------\n",
    "None\n",
    "\n",
    "Examples\n",
    "--------\n",
    "df = all_error_data()\n",
    "\"\"\"\n",
    "#your code here\n",
    "\n",
    "def all_error_data():\n",
    "    data = [error_data(url) for url in find_governor_races(page)]\n",
    "    return pd.concat(data, ignore_index=True)"
   ]
  },
  {
   "cell_type": "code",
   "execution_count": 356,
   "metadata": {},
   "outputs": [
    {
     "name": "stderr",
     "output_type": "stream",
     "text": [
      "//anaconda/lib/python3.5/site-packages/bs4/__init__.py:166: UserWarning: No parser was explicitly specified, so I'm using the best available HTML parser for this system (\"lxml\"). This usually isn't a problem, but if you run this code on another system, or in a different virtual environment, it may use a different parser and behave differently.\n",
      "\n",
      "To get rid of this warning, change this:\n",
      "\n",
      " BeautifulSoup([your markup])\n",
      "\n",
      "to this:\n",
      "\n",
      " BeautifulSoup([your markup], \"lxml\")\n",
      "\n",
      "  markup_type=markup_type))\n",
      "//anaconda/lib/python3.5/site-packages/ipykernel/__main__.py:47: FutureWarning: \n",
      ".resample() is now a deferred operation\n",
      "You called dropna(...) on this deferred object which materialized it into a dataframe\n",
      "by implicitly taking the mean.  Use .resample(...).mean() instead\n"
     ]
    }
   ],
   "source": [
    "errors = all_error_data()"
   ]
  },
  {
   "cell_type": "markdown",
   "metadata": {},
   "source": [
    "Here's a histogram of the error of every polling measurement in the data"
   ]
  },
  {
   "cell_type": "code",
   "execution_count": 358,
   "metadata": {},
   "outputs": [
    {
     "data": {
      "text/plain": [
       "Text(0,0.5,'N')"
      ]
     },
     "execution_count": 358,
     "metadata": {},
     "output_type": "execute_result"
    },
    {
     "data": {
      "image/png": "[encoded data removed]",
      "text/plain": [
       "<matplotlib.figure.Figure at 0x120c94eb8>"
      ]
     },
     "metadata": {},
     "output_type": "display_data"
    }
   ],
   "source": [
    "errors.error.hist(bins=50)\n",
    "plt.xlabel(\"Polling Error\")\n",
    "plt.ylabel('N')"
   ]
  },
  {
   "cell_type": "markdown",
   "metadata": {},
   "source": [
    "## Problem 6\n",
    "Compute the standard deviation of the polling errors. How much uncertainty is there in the typical RCP poll?"
   ]
  },
  {
   "cell_type": "code",
   "execution_count": 360,
   "metadata": {},
   "outputs": [
    {
     "data": {
      "text/plain": [
       "count    4.860000e+02\n",
       "mean    -1.012450e-15\n",
       "std      5.088011e+00\n",
       "min     -8.983478e+00\n",
       "25%     -4.002690e+00\n",
       "50%     -4.030610e-01\n",
       "75%      4.006604e+00\n",
       "max      9.743656e+00\n",
       "Name: error, dtype: float64"
      ]
     },
     "execution_count": 360,
     "metadata": {},
     "output_type": "execute_result"
    }
   ],
   "source": [
    "errors.error.describe()"
   ]
  },
  {
   "cell_type": "markdown",
   "metadata": {},
   "source": [
    "## Problem 7\n",
    "Repeat this calculation for the data where errors.forecast_length < 7 (i.e. the polls within a week of an election). How much more/less accurate are they? How about the data where errors.forecast_length > 30?\n",
    "\n",
    "### Comment on this in 1 or 2 sentences. \n",
    "Does this make sense?"
   ]
  },
  {
   "cell_type": "code",
   "execution_count": 367,
   "metadata": {},
   "outputs": [
    {
     "data": {
      "text/plain": [
       "3.775595144797558"
      ]
     },
     "execution_count": 367,
     "metadata": {},
     "output_type": "execute_result"
    }
   ],
   "source": [
    "np.std(errors[errors.forecast_length<7].error)"
   ]
  },
  {
   "cell_type": "code",
   "execution_count": 368,
   "metadata": {},
   "outputs": [
    {
     "data": {
      "text/plain": [
       "5.218261037003702"
      ]
     },
     "execution_count": 368,
     "metadata": {},
     "output_type": "execute_result"
    }
   ],
   "source": [
    "np.std(errors[errors.forecast_length>30].error)"
   ]
  },
  {
   "cell_type": "markdown",
   "metadata": {},
   "source": [
    "It quite makes sense because when the election date gets closer, the accuracy goes up. The error tends to be closer to the mean, therefore, standard deviation for forecast_length $<$ 7 is smaller than forecast_length $>$ 30"
   ]
  },
  {
   "cell_type": "markdown",
   "metadata": {},
   "source": [
    "## Problem 8\n",
    "## Bootstrap resampling \n",
    "is a general purpose way to use empirical data like the errors DataFrame to estimate uncertainties. For example, consider the Viriginia Governor Race. If we wanted to estimate how likey it is that McAuliffe will win given the current RCP data, the approch would be:\n",
    "\n",
    "1. Pick a large number N of experiments to run (say N=1000).\n",
    "2. For each experiment, randomly select a value from errors.error. We are assuming that these numbers represent a reasonable error distribution for the current poll data.\n",
    "3. Assume that the error on McAullife's current polling score is given by this number (and, by extension, the error on Cuccinelli's poll score is the opposite). Calculate who actually wins the election in this simulation.\n",
    "4. Repeat N times, and calculate the percentage of simulations where either candidate wins.\n",
    "\n",
    "Bootstrapping isn't foolproof: it makes the assumption that the previous Governor race errors are representative of the Virginia race, and it does a bad job at estimating very rare events (with only ~30 races in the errors DataFrame, it would be hard to accurately predict probabilities for 1-in-a-million scenarios). Nevertheless, it's a versatile technique.\n",
    "\n",
    "Use bootstrap resampling to estimate how likely it is that each candidate could win the following races.\n",
    "\n",
    "- Virginia Governor\n",
    "- New Jersey Governor\n",
    "\n",
    "#### Summarize your results in a paragraph. What conclusions do you draw from the bootstrap analysis, and what assumptions did you make in reaching this conclusion. What are some limitations of this analysis?"
   ]
  },
  {
   "cell_type": "code",
   "execution_count": 382,
   "metadata": {},
   "outputs": [],
   "source": [
    "#your code here\n",
    "N = 1000\n",
    "def bootstrap(c1, c2, errors, N=1000):\n",
    "    '''\n",
    "    Given current proportion of poll votes for two candidates, \n",
    "    return the bootstrapped result of winning probability for both candidates\n",
    "    \n",
    "    parameters\n",
    "    ----------\n",
    "    c1: float, \n",
    "        The current proportion of poll votes for candidate 1\n",
    "    c2: float\n",
    "        The current proportion of poll votes for candidate 2\n",
    "    errors: dataframe\n",
    "    N: integer\n",
    "        The number of bootstrapping\n",
    "    \n",
    "    returns\n",
    "    -------\n",
    "    p1, p2\n",
    "        The bootstrapped winning probability for both candidates\n",
    "    '''\n",
    "    # normalize c1 and c2 so that they sum up to 1\n",
    "    total = sum([c1, c2])\n",
    "    c1 = c1/total*100.\n",
    "    c2 = c2/total*100.\n",
    "    # draw N samples from errors.error\n",
    "    err = np.random.choice(errors.error, N)\n",
    "    c1 = c1 + err\n",
    "    c2 = c2 - err\n",
    "    p1 = sum(c1>c2)/N\n",
    "    p2 = 1.0-p1\n",
    "    return p1, p2"
   ]
  },
  {
   "cell_type": "code",
   "execution_count": 384,
   "metadata": {},
   "outputs": [],
   "source": [
    "mcauliffe, cuccinelli = 43.0, 39.0\n",
    "p1, p2 = bootstrap(mcauliffe, cuccinelli, errors, N=1000)"
   ]
  },
  {
   "cell_type": "code",
   "execution_count": 391,
   "metadata": {},
   "outputs": [
    {
     "name": "stdout",
     "output_type": "stream",
     "text": [
      "Virginia:\n",
      "Mcauliffe's winning rate will be: 0.618\n",
      "cuccinelli's winning rate will be: 0.382\n"
     ]
    }
   ],
   "source": [
    "print('Virginia:')\n",
    "print('{0}{1}'.format(\"Mcauliffe's winning rate will be: \", p1))\n",
    "print('{0}{1}'.format(\"cuccinelli's winning rate will be: \", p2))"
   ]
  },
  {
   "cell_type": "code",
   "execution_count": null,
   "metadata": {
    "collapsed": true
   },
   "outputs": [],
   "source": []
  }
 ],
 "metadata": {
  "anaconda-cloud": {},
  "kernelspec": {
   "display_name": "Python [default]",
   "language": "python",
   "name": "python3"
  },
  "language_info": {
   "codemirror_mode": {
    "name": "ipython",
    "version": 3
   },
   "file_extension": ".py",
   "mimetype": "text/x-python",
   "name": "python",
   "nbconvert_exporter": "python",
   "pygments_lexer": "ipython3",
   "version": "3.5.2"
  }
 },
 "nbformat": 4,
 "nbformat_minor": 2
}
